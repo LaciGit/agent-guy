{
 "cells": [
  {
   "cell_type": "code",
   "execution_count": 1,
   "metadata": {},
   "outputs": [
    {
     "name": "stderr",
     "output_type": "stream",
     "text": [
      "INFO:root:Appended /home/laci/repos/agent-guy to sys.path\n"
     ]
    }
   ],
   "source": [
    "# since we are in a subfolder\n",
    "from utils import append_sys_path\n",
    "\n",
    "append_sys_path()"
   ]
  },
  {
   "cell_type": "code",
   "execution_count": 2,
   "metadata": {},
   "outputs": [],
   "source": [
    "from agent_guy import Grid, IModel, Patch, Runner, SequentialExecutor, Turtle\n",
    "from tests.mocks.game_of_life import LifeCell, LifeModel\n",
    "\n",
    "import logging\n",
    "\n",
    "logging.basicConfig(level=logging.INFO)"
   ]
  },
  {
   "cell_type": "code",
   "execution_count": 4,
   "metadata": {},
   "outputs": [
    {
     "name": "stderr",
     "output_type": "stream",
     "text": [
      "INFO:root:Running the simulation\n",
      "INFO:root:Setup the model\n",
      "INFO:root:Start Simulation\n",
      "INFO:root:Executing step 0/100\n",
      "INFO:root:Executing step 1/100\n",
      "INFO:root:Executing step 2/100\n"
     ]
    },
    {
     "ename": "KeyboardInterrupt",
     "evalue": "",
     "output_type": "error",
     "traceback": [
      "\u001b[0;31m---------------------------------------------------------------------------\u001b[0m",
      "\u001b[0;31mKeyboardInterrupt\u001b[0m                         Traceback (most recent call last)",
      "File \u001b[0;32m<timed exec>:12\u001b[0m\n",
      "File \u001b[0;32m~/repos/agent-guy/agent_guy/runner/runner.py:39\u001b[0m, in \u001b[0;36mRunner.run\u001b[0;34m(self)\u001b[0m\n\u001b[1;32m     37\u001b[0m \u001b[39mfor\u001b[39;00m i_step \u001b[39min\u001b[39;00m \u001b[39mrange\u001b[39m(\u001b[39mself\u001b[39m\u001b[39m.\u001b[39mexecutor\u001b[39m.\u001b[39mmax_step):\n\u001b[1;32m     38\u001b[0m     logging\u001b[39m.\u001b[39minfo(\u001b[39mf\u001b[39m\u001b[39m\"\u001b[39m\u001b[39mExecuting step \u001b[39m\u001b[39m{\u001b[39;00mi_step\u001b[39m}\u001b[39;00m\u001b[39m/\u001b[39m\u001b[39m{\u001b[39;00m\u001b[39mself\u001b[39m\u001b[39m.\u001b[39mexecutor\u001b[39m.\u001b[39mmax_step\u001b[39m}\u001b[39;00m\u001b[39m\"\u001b[39m)\n\u001b[0;32m---> 39\u001b[0m     \u001b[39mself\u001b[39;49m\u001b[39m.\u001b[39;49mmodel\u001b[39m.\u001b[39;49mstep()\n\u001b[1;32m     41\u001b[0m     logging\u001b[39m.\u001b[39mdebug(\u001b[39mf\u001b[39m\u001b[39m\"\u001b[39m\u001b[39m\\n\u001b[39;00m\u001b[39m{\u001b[39;00m\u001b[39mself\u001b[39m\u001b[39m.\u001b[39mmodel\u001b[39m.\u001b[39mgrid\u001b[39m.\u001b[39mbuild_matrix_turtles()\u001b[39m}\u001b[39;00m\u001b[39m\"\u001b[39m)\n\u001b[1;32m     43\u001b[0m logging\u001b[39m.\u001b[39minfo(\u001b[39m\"\u001b[39m\u001b[39mSimulation finished\u001b[39m\u001b[39m\"\u001b[39m)\n",
      "File \u001b[0;32m~/repos/agent-guy/tests/mocks/game_of_life.py:87\u001b[0m, in \u001b[0;36mLifeModel.step\u001b[0;34m(self)\u001b[0m\n\u001b[1;32m     86\u001b[0m \u001b[39mdef\u001b[39;00m \u001b[39mstep\u001b[39m(\u001b[39mself\u001b[39m) \u001b[39m-\u001b[39m\u001b[39m>\u001b[39m \u001b[39mNone\u001b[39;00m:\n\u001b[0;32m---> 87\u001b[0m     \u001b[39mself\u001b[39;49m\u001b[39m.\u001b[39;49mask_turtles(func\u001b[39m=\u001b[39;49m[\u001b[39m\"\u001b[39;49m\u001b[39mobserve\u001b[39;49m\u001b[39m\"\u001b[39;49m, \u001b[39m\"\u001b[39;49m\u001b[39mact\u001b[39;49m\u001b[39m\"\u001b[39;49m])\n",
      "File \u001b[0;32m~/repos/agent-guy/agent_guy/model/model.py:127\u001b[0m, in \u001b[0;36mIModel.ask_turtles\u001b[0;34m(self, func)\u001b[0m\n\u001b[1;32m    124\u001b[0m \u001b[39mif\u001b[39;00m \u001b[39mnot\u001b[39;00m \u001b[39mset\u001b[39m(func)\u001b[39m.\u001b[39missubset(\u001b[39mself\u001b[39m\u001b[39m.\u001b[39m_pos_turtle_funcs()):\n\u001b[1;32m    125\u001b[0m     \u001b[39mraise\u001b[39;00m \u001b[39mValueError\u001b[39;00m(\u001b[39mf\u001b[39m\u001b[39m\"\u001b[39m\u001b[39mInvalid function in: \u001b[39m\u001b[39m{\u001b[39;00mfunc\u001b[39m}\u001b[39;00m\u001b[39m\"\u001b[39m)\n\u001b[0;32m--> 127\u001b[0m \u001b[39mself\u001b[39;49m\u001b[39m.\u001b[39;49mgrid\u001b[39m.\u001b[39;49mupdate_turtles_by_neighbors(turtles\u001b[39m=\u001b[39;49m\u001b[39mself\u001b[39;49m\u001b[39m.\u001b[39;49mturtles)\n\u001b[1;32m    129\u001b[0m \u001b[39m# get execution order of turtles\u001b[39;00m\n\u001b[1;32m    130\u001b[0m turtle_ids \u001b[39m=\u001b[39m \u001b[39mself\u001b[39m\u001b[39m.\u001b[39mexecutor\u001b[39m.\u001b[39mexecute_order(\u001b[39mlist\u001b[39m(\u001b[39mself\u001b[39m\u001b[39m.\u001b[39mturtles\u001b[39m.\u001b[39mkeys()))\n",
      "File \u001b[0;32m~/repos/agent-guy/agent_guy/world/grid.py:220\u001b[0m, in \u001b[0;36mGrid.update_turtles_by_neighbors\u001b[0;34m(self, turtles)\u001b[0m\n\u001b[1;32m    214\u001b[0m \u001b[39mfor\u001b[39;00m n_id \u001b[39min\u001b[39;00m moore_neighbors:\n\u001b[1;32m    215\u001b[0m     n_patch \u001b[39m=\u001b[39m \u001b[39mself\u001b[39m\u001b[39m.\u001b[39mget_patch(n_id)\n\u001b[1;32m    216\u001b[0m     new_neighbors \u001b[39m=\u001b[39m {\n\u001b[1;32m    217\u001b[0m         \u001b[39m*\u001b[39m\u001b[39m*\u001b[39mnew_neighbors,\n\u001b[1;32m    218\u001b[0m         \u001b[39m*\u001b[39m\u001b[39m*\u001b[39m{\n\u001b[1;32m    219\u001b[0m             a_id: a\n\u001b[0;32m--> 220\u001b[0m             \u001b[39mfor\u001b[39;00m a_id, a \u001b[39min\u001b[39;00m n_patch\u001b[39m.\u001b[39;49mget_turtles()\u001b[39m.\u001b[39mitems()\n\u001b[1;32m    221\u001b[0m             \u001b[39mif\u001b[39;00m a_id \u001b[39mnot\u001b[39;00m \u001b[39min\u001b[39;00m current_neighbors\u001b[39m.\u001b[39mkeys()\n\u001b[1;32m    222\u001b[0m         },\n\u001b[1;32m    223\u001b[0m     }\n\u001b[1;32m    225\u001b[0m \u001b[39m# get neighbors to delete\u001b[39;00m\n\u001b[1;32m    226\u001b[0m del_neighbors \u001b[39m=\u001b[39m {\n\u001b[1;32m    227\u001b[0m     k: v\n\u001b[1;32m    228\u001b[0m     \u001b[39mfor\u001b[39;00m k, v \u001b[39min\u001b[39;00m current_neighbors\u001b[39m.\u001b[39mitems()\n\u001b[1;32m    229\u001b[0m     \u001b[39mif\u001b[39;00m k \u001b[39mnot\u001b[39;00m \u001b[39min\u001b[39;00m new_neighbors\u001b[39m.\u001b[39mkeys()\n\u001b[1;32m    230\u001b[0m }\n",
      "File \u001b[0;32m~/repos/agent-guy/agent_guy/agent/patch.py:86\u001b[0m, in \u001b[0;36mPatch.get_turtles\u001b[0;34m(self, turtle_ids)\u001b[0m\n\u001b[1;32m     84\u001b[0m \u001b[39m# if no turtle ids provided, return all turtles\u001b[39;00m\n\u001b[1;32m     85\u001b[0m \u001b[39mif\u001b[39;00m \u001b[39mnot\u001b[39;00m turtle_ids:\n\u001b[0;32m---> 86\u001b[0m     \u001b[39mreturn\u001b[39;00m \u001b[39mself\u001b[39m\u001b[39m.\u001b[39m_turtles_on_patch\u001b[39m.\u001b[39mcopy()\n\u001b[1;32m     88\u001b[0m \u001b[39m# check if all turtle ids are on the patch\u001b[39;00m\n\u001b[1;32m     89\u001b[0m dict_turtles \u001b[39m=\u001b[39m {}\n",
      "\u001b[0;31mKeyboardInterrupt\u001b[0m: "
     ]
    }
   ],
   "source": [
    "%%time\n",
    "\n",
    "grid = Grid(width=1000, height=1000)\n",
    "model = LifeModel(grid=grid)\n",
    "\n",
    "runner = Runner(\n",
    "    model=model,\n",
    "    observer=None,\n",
    "    executor=SequentialExecutor(max_step=100),\n",
    "    visitor=None,\n",
    "    debug=True,\n",
    ")\n",
    "\n",
    "runner.run()"
   ]
  },
  {
   "cell_type": "code",
   "execution_count": null,
   "metadata": {},
   "outputs": [],
   "source": []
  }
 ],
 "metadata": {
  "kernelspec": {
   "display_name": "agent-guy-8lejIdi7-py3.11",
   "language": "python",
   "name": "python3"
  },
  "language_info": {
   "codemirror_mode": {
    "name": "ipython",
    "version": 3
   },
   "file_extension": ".py",
   "mimetype": "text/x-python",
   "name": "python",
   "nbconvert_exporter": "python",
   "pygments_lexer": "ipython3",
   "version": "3.11.0rc1"
  }
 },
 "nbformat": 4,
 "nbformat_minor": 2
}
