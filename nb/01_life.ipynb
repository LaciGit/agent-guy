{
 "cells": [
  {
   "cell_type": "code",
   "execution_count": 1,
   "metadata": {},
   "outputs": [
    {
     "name": "stderr",
     "output_type": "stream",
     "text": [
      "INFO:root:Appended /home/laci/repos/agent-guy to sys.path\n"
     ]
    }
   ],
   "source": [
    "# since we are in a subfolder\n",
    "from utils import append_sys_path\n",
    "\n",
    "append_sys_path()"
   ]
  },
  {
   "cell_type": "code",
   "execution_count": null,
   "metadata": {},
   "outputs": [],
   "source": [
    "import random\n",
    "from agent_guy.agent import IAgent, ITurtle, IPatch\n",
    "from agent_guy.world import Grid\n",
    "\n",
    "from agent_guy.executor import SequentialExecutor, RandomExecutor\n",
    "from agent_guy.model import IModel\n",
    "from agent_guy.runner import Runner\n",
    "from agent_guy.visitor import CsvVisitor\n",
    "from agent_guy.observer import IObserver"
   ]
  },
  {
   "cell_type": "code",
   "execution_count": null,
   "metadata": {},
   "outputs": [],
   "source": [
    "class LifeCell(ITurtle):\n",
    "    def __init__(self, x: int, y: int) -> None:\n",
    "        # a custom variable from the user\n",
    "        self.neighbors_alive = 0\n",
    "        self.status = \"dead\"\n",
    "        super().__init__(x, y)\n",
    "\n",
    "    # these are custom functions for the user\n",
    "    def observe(self) -> None:\n",
    "        # retruns me the neighbors agent objects\n",
    "        # there could be also neighbors patches\n",
    "        neighbors = self.neighbor_turtles()\n",
    "        # count the number of alive neighbors\n",
    "        self.neighbors_alive = len([n for n in neighbors if n.status == \"alive\"])\n",
    "\n",
    "        return\n",
    "\n",
    "    def act(self) -> None:\n",
    "        # if I have less than 2 neighbors I die\n",
    "        if self.neighbors_alive < 2:\n",
    "            self.die()\n",
    "        # if I have more than 3 neighbors I die\n",
    "        elif self.neighbors_alive > 3:\n",
    "            self.die()\n",
    "        # if I have 3 neighbors I live\n",
    "        elif self.neighbors_alive == 3:\n",
    "            self.live()\n",
    "        # otherwise I do nothing\n",
    "        else:\n",
    "            pass\n",
    "        return\n",
    "\n",
    "    def die(self) -> None:\n",
    "        self.status = \"dead\"\n",
    "        self.set_color(\"red\")\n",
    "        return\n",
    "\n",
    "    def live(self) -> None:\n",
    "        self.status = \"alive\"\n",
    "        self.set_color(\"green\")\n",
    "        return\n",
    "\n",
    "\n",
    "class LifeModel(IModel):\n",
    "    def __init__(self, world: IWorld, parameters: dict = dict()):\n",
    "        super().__init__(world, parameters)\n",
    "\n",
    "    def setup_world(self) -> None:\n",
    "        pass  # nothing to do here\n",
    "\n",
    "    def setup_agents(self) -> None:\n",
    "        # put an agent on each patch\n",
    "        for patch in self.world.patches:\n",
    "            cell = LifeCell(self.world, patch.x, patch.y)\n",
    "\n",
    "            # pull out of a distribution if the cell is alive or dead\n",
    "            if random.random() < parameters[\"chance_of_life\"]:\n",
    "                cell.live()\n",
    "            else:\n",
    "                cell.die()\n",
    "\n",
    "            # add the cell to the world\n",
    "            self.world.add_turtle(cell)\n",
    "\n",
    "        return\n",
    "\n",
    "    def step(self) -> None:\n",
    "        # all agents observe\n",
    "        self.world.ask_turtles(funcs=[\"observe\"])\n",
    "\n",
    "        # all agents act\n",
    "        self.world.ask_turtles(funcs=[\"act\"])\n",
    "\n",
    "        return\n",
    "\n",
    "\n",
    "class Observer(IObserver):\n",
    "    def aggregate(self, model: IModel) -> dict:\n",
    "        # get number of turtles alive\n",
    "        turtles_count = model.world.count_turtles()\n",
    "        # get number of alive turtles\n",
    "        turtles_alive = len(model.world.get_turtles(dict(status=\"alive\")))\n",
    "        # get number of dead turtles\n",
    "        turtles_dead = turtles_count - turtles_alive\n",
    "\n",
    "        return {\"turtles_alive\": turtles_alive, \"turtles_dead\": turtles_dead}"
   ]
  },
  {
   "cell_type": "code",
   "execution_count": null,
   "metadata": {},
   "outputs": [],
   "source": [
    "runner = Runner(\n",
    "    model=Model(\n",
    "        world=Grid(10, 10),\n",
    "        parameters={\n",
    "            chance_of_life=0.1,\n",
    "        }\n",
    "    ),\n",
    "    executor=SequentialExecutor(max_step = 100),\n",
    "    observer=Observer(),\n",
    "    visitor=CsvVisitor(),\n",
    ")"
   ]
  }
 ],
 "metadata": {
  "kernelspec": {
   "display_name": "agent-guy-8lejIdi7-py3.11",
   "language": "python",
   "name": "python3"
  },
  "language_info": {
   "codemirror_mode": {
    "name": "ipython",
    "version": 3
   },
   "file_extension": ".py",
   "mimetype": "text/x-python",
   "name": "python",
   "nbconvert_exporter": "python",
   "pygments_lexer": "ipython3",
   "version": "3.11.0"
  }
 },
 "nbformat": 4,
 "nbformat_minor": 2
}
